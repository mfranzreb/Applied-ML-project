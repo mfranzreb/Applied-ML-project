{
 "cells": [
  {
   "cell_type": "code",
   "execution_count": 24,
   "metadata": {},
   "outputs": [],
   "source": [
    "import torch\n",
    "from torch import nn\n",
    "from torch.utils.data import DataLoader, Dataset\n",
    "import pytorch_lightning as pl\n",
    "from pytorch_lightning.loggers import TensorBoardLogger\n",
    "import pandas as pd\n",
    "import os\n",
    "import cv2\n",
    "import matplotlib.pyplot as plt"
   ]
  },
  {
   "cell_type": "markdown",
   "metadata": {},
   "source": [
    "## Define parameters"
   ]
  },
  {
   "cell_type": "code",
   "execution_count": 25,
   "metadata": {},
   "outputs": [],
   "source": [
    "user = \"Marco\"\n",
    "learning_rate = 1e-3\n",
    "input_size = 300\n",
    "output_size = 100\n",
    "batch_size = 10\n",
    "num_epochs = 50\n",
    "num_workers = 0\n",
    "train_dir = os.path.join(os.getcwd(), 'data', 'train')\n",
    "test_dir = os.path.join(os.getcwd(), 'data', 'test')\n",
    "dtype_to_use = torch.float32"
   ]
  },
  {
   "cell_type": "markdown",
   "metadata": {},
   "source": [
    "## Define the neural network architecture\n",
    "Layer options (More info at https://pytorch.org/docs/stable/nn.html):\n",
    "+ Linear: fully connected layer\n",
    "+ Conv1d/Conv2d: Convolutional layers\n",
    "+ BatchNorm2d/LayerNorm/InstanceNorm2d: Normalization layers\n",
    "+ Dropout: Dropout layer\n",
    "+ MaxPool2d/AvgPool2d: Pooling layers"
   ]
  },
  {
   "cell_type": "code",
   "execution_count": 26,
   "metadata": {},
   "outputs": [],
   "source": [
    "class NN(pl.LightningModule):\n",
    "    def __init__(self, learning_rate, input_size, output_size):\n",
    "        super(NN, self).__init__()\n",
    "        self.learning_rate = learning_rate\n",
    "        self.layer1 = nn.Conv2d(1, 32, kernel_size=4, stride=1, padding=\"same\", dtype=dtype_to_use)\n",
    "        self.layer2 = nn.Conv2d(32, 64, kernel_size=4, stride=1, padding=\"same\", dtype=dtype_to_use)\n",
    "        self.layer3 = nn.Conv2d(64, 128, kernel_size=4, stride=1, padding=\"same\", dtype=dtype_to_use)\n",
    "        self.layer4 = nn.Linear(128*11**2, 2000, dtype= dtype_to_use)\n",
    "        self.layer5 = nn.Linear(2000, 500, dtype=dtype_to_use)\n",
    "        self.layer6 = nn.Linear(500, output_size*2, dtype= dtype_to_use)\n",
    "\n",
    "        self.pool = nn.MaxPool2d(kernel_size=3, stride=3)\n",
    "\n",
    "        self.relu = nn.ReLU()\n",
    "        #self.loss_fn = nn.MSELoss()\n",
    "\n",
    "        self.training_step_outputs = []\n",
    "        self.testing_step_outputs = []\n",
    "\n",
    "        self.save_path = None\n",
    "    \n",
    "    def forward(self, x):\n",
    "        current_batch_size = x.shape[0]\n",
    "        x = x.view(current_batch_size, 1, input_size, input_size)\n",
    "        x = self.pool(self.relu(self.layer1(x)))\n",
    "        x = self.pool(self.relu(self.layer2(x)))\n",
    "        x = self.pool(self.relu(self.layer3(x)))\n",
    "        x = x.view(current_batch_size, -1)\n",
    "        x = self.layer4(x)\n",
    "        x = self.layer5(x)\n",
    "        x = self.layer6(x)\n",
    "        x = x.view(current_batch_size, -1, output_size)\n",
    "        return x\n",
    "    \n",
    "    def loss_fn(self, outputs, targets):\n",
    "        abs_diff = torch.abs(outputs - targets)\n",
    "        avg_distance = torch.mean(abs_diff)\n",
    "        return avg_distance\n",
    "\n",
    "    def configure_optimizers(self):\n",
    "        return torch.optim.Adam(self.parameters(), lr=self.learning_rate)\n",
    "    \n",
    "    def on_train_epoch_end(self):\n",
    "        if self.current_epoch == self.trainer.max_epochs - 1:\n",
    "            # Calculate distances for the last epoch\n",
    "            avg_distances, max_distances = self.calculate_distances(self.training_step_outputs, True)\n",
    "            for i, avg_distance in enumerate(avg_distances):\n",
    "                self.logger.experiment.add_scalar(\"train/avg_distance\", avg_distance, i)\n",
    "                self.logger.experiment.add_scalar(\"train/max_distance\", max_distances[i], i)\t\n",
    "\n",
    "    def on_test_end(self):\n",
    "        if self.current_epoch >= self.trainer.max_epochs - 1:\n",
    "            # Calculate distances for the last epoch\n",
    "            avg_distances, max_distances = self.calculate_distances(self.testing_step_outputs)\n",
    "            for i, avg_distance in enumerate(avg_distances):\n",
    "                self.logger.experiment.add_scalar(\"test/avg_distance\", avg_distance, i)\n",
    "                self.logger.experiment.add_scalar(\"test/max_distance\", max_distances[i], i)\n",
    "\n",
    "            \n",
    "\n",
    "    def calculate_distances(self, output_target_pairs, train = False):\n",
    "        if self.save_path is None:\n",
    "            self.save_path = os.path.join(os.getcwd(), \"logs\", f\"results_{user}\", f\"version_{self.logger.version}\", \"airfoils\")\n",
    "            if not os.path.exists(self.save_path):\n",
    "                os.mkdir(self.save_path)\n",
    "    \n",
    "        avg_distances, max_distances = [], []\n",
    "        for i, pair in enumerate(output_target_pairs):\n",
    "            output, target = pair\n",
    "            if train and i%100 == 0:\n",
    "                pd.DataFrame(output.cpu().detach().numpy()).to_csv(os.path.join(self.save_path, f\"output_{i}.csv\"))\n",
    "                pd.DataFrame(target.cpu()).to_csv(os.path.join(self.save_path, f\"target_{i}.csv\"))\n",
    "            avg_distance, max_distance = self.calculate_distance(output, target)\n",
    "            avg_distances.append(avg_distance)\n",
    "            max_distances.append(max_distance)\n",
    "\n",
    "        return avg_distances, max_distances\n",
    "\n",
    "    def calculate_distance(self, output, target):\n",
    "        abs_diff = torch.abs(output - target)\n",
    "        avg_distance = torch.mean(abs_diff)\n",
    "        max_distance = torch.max(abs_diff)\n",
    "        return (avg_distance.item(), max_distance.item())\n",
    "    \n",
    "\n",
    "    def training_step(self, batch, batch_idx):\n",
    "        inputs, targets = batch\n",
    "        outputs = self.forward(inputs)\n",
    "        loss = self.loss_fn(outputs, targets)\n",
    "        if torch.isnan(loss):\n",
    "            self.trainer.should_stop = True\n",
    "        self.log(\"train_loss\", loss)\n",
    "        if self.current_epoch == self.trainer.max_epochs - 1:\n",
    "            for output, target in zip(outputs, targets):\n",
    "                self.training_step_outputs.append((output, target))\n",
    "        else:\n",
    "            self.training_step_outputs = []\n",
    "        return loss\n",
    "    \n",
    "    def test_step(self, batch, batch_idx):\n",
    "        inputs, targets = batch\n",
    "        outputs = self.forward(inputs)\n",
    "        loss = self.loss_fn(outputs, targets)\n",
    "        self.log(\"test_loss\", loss)\n",
    "        if self.current_epoch >= self.trainer.max_epochs - 1:\n",
    "            for output, target in zip(outputs, targets):\n",
    "                self.testing_step_outputs.append((output, target))\n",
    "        else:\n",
    "            self.testing_step_outputs = []\n",
    "        return loss\n"
   ]
  },
  {
   "cell_type": "markdown",
   "metadata": {},
   "source": [
    "## Custom dataset class"
   ]
  },
  {
   "cell_type": "code",
   "execution_count": 27,
   "metadata": {},
   "outputs": [],
   "source": [
    "class CustomDataset(Dataset):\n",
    "    def __init__(self, data, device):\n",
    "        self.data = data\n",
    "        self.device = device\n",
    "\n",
    "    def __len__(self):\n",
    "        return len(self.data)\n",
    "\n",
    "    def __getitem__(self, index):\n",
    "        # Assuming each item in the dataset is a tuple of (input, output)\n",
    "        sample = self.data[index]\n",
    "        input_array, output_array = sample[0], sample[1]\n",
    "\n",
    "        # Convert to PyTorch tensors\n",
    "        input_tensor = torch.tensor(input_array, dtype=dtype_to_use, device=self.device)\n",
    "        output_tensor = torch.tensor(output_array, dtype=dtype_to_use, device=self.device)\n",
    "\n",
    "        return input_tensor, output_tensor\n",
    "    \n",
    "class CustomDataModule(pl.LightningDataModule):\n",
    "    def __init__(self, batch_size, num_workers, device):\n",
    "        super().__init__()\n",
    "        self.batch_size = batch_size\n",
    "        self.num_workers = num_workers\n",
    "        self.device = device\n",
    "        self.train_ds = None\n",
    "        self.test_ds = None\n",
    "\n",
    "    def prepare_data(self):\n",
    "        pass\n",
    "\n",
    "    #Arrays are transposed to make size 100 instead of 2\n",
    "    def setup(self, stage):\n",
    "        train_data = []\n",
    "        test_data = []\n",
    "        for subdir in os.listdir(train_dir):\n",
    "            input = cv2.imread(os.path.join(train_dir, subdir, 'polar_plot.png'), cv2.IMREAD_GRAYSCALE) \n",
    "            output = pd.read_csv(os.path.join(train_dir, subdir, 'coords.csv')).values.transpose()\n",
    "            train_data.append((input, output))\n",
    "        for subdir in os.listdir(test_dir):\n",
    "            input = cv2.imread(os.path.join(train_dir, subdir, 'polar_plot.png'), cv2.IMREAD_GRAYSCALE) \n",
    "            output = pd.read_csv(os.path.join(test_dir, subdir, 'coords.csv')).values.transpose()\n",
    "            test_data.append((input, output))\n",
    "\n",
    "        self.train_ds = CustomDataset(train_data, self.device)\n",
    "        self.test_ds = CustomDataset(test_data, self.device)\n",
    "\n",
    "    def train_dataloader(self):\n",
    "        return DataLoader(\n",
    "            self.train_ds,\n",
    "            batch_size=self.batch_size,\n",
    "            num_workers=self.num_workers,\n",
    "        )\n",
    "\n",
    "    def test_dataloader(self):\n",
    "        return DataLoader(\n",
    "            self.test_ds,\n",
    "            batch_size=self.batch_size,\n",
    "            num_workers=self.num_workers,\n",
    "        )"
   ]
  },
  {
   "cell_type": "code",
   "execution_count": 28,
   "metadata": {},
   "outputs": [
    {
     "name": "stdout",
     "output_type": "stream",
     "text": [
      "Using: Quadro P600\n"
     ]
    }
   ],
   "source": [
    "# Set device cuda for GPU if it's available otherwise run on the CPU\n",
    "os.environ[\"CUDA_VISIBLE_DEVICES\"] = \"0\"\n",
    "device = torch.device(\"cuda\" if torch.cuda.is_available() else \"cpu\")\n",
    "#device = torch.device(\"cpu\")\n",
    "if device == torch.device(\"cuda\"):\n",
    "    print(f\"Using: {torch.cuda.get_device_name(device)}\")\n",
    "else:\n",
    "    print(\"Using: CPU\")\n",
    "    os.environ[\"CUDA_VISIBLE_DEVICES\"] = \"\"\n",
    "lightning_model = NN(learning_rate=learning_rate, input_size=input_size, output_size=output_size).to(device)\n",
    "\n",
    "\n",
    "dm = CustomDataModule(batch_size, num_workers, device)"
   ]
  },
  {
   "cell_type": "markdown",
   "metadata": {},
   "source": [
    "# Train and plot loss over epochs, as well as average and maximum difference for every sample in the last epoch"
   ]
  },
  {
   "cell_type": "code",
   "execution_count": 29,
   "metadata": {},
   "outputs": [
    {
     "name": "stderr",
     "output_type": "stream",
     "text": [
      "GPU available: True (cuda), used: True\n",
      "TPU available: False, using: 0 TPU cores\n",
      "IPU available: False, using: 0 IPUs\n",
      "HPU available: False, using: 0 HPUs\n",
      "c:\\Users\\Marco\\AppData\\Local\\Programs\\Python\\Python310\\lib\\site-packages\\pytorch_lightning\\trainer\\call.py:52: UserWarning: Detected KeyboardInterrupt, attempting graceful shutdown...\n",
      "  rank_zero_warn(\"Detected KeyboardInterrupt, attempting graceful shutdown...\")\n",
      "UsageError: Line magic function `%tensorboard` not found.\n"
     ]
    }
   ],
   "source": [
    "#! Change this to your name so that each one has their results in a separate folder\n",
    "tb_logger = TensorBoardLogger(\"logs\", name=f\"results_{user}\")\n",
    "trainer = pl.Trainer(max_epochs=num_epochs, logger=tb_logger)  # Adjust parameters as needed\n",
    "\n",
    "# Train the model\n",
    "trainer.fit(lightning_model, dm)\n",
    "%tensorboard --logdir logs/results_Marco"
   ]
  },
  {
   "cell_type": "code",
   "execution_count": 30,
   "metadata": {},
   "outputs": [
    {
     "name": "stderr",
     "output_type": "stream",
     "text": [
      "GPU available: True (cuda), used: True\n",
      "TPU available: False, using: 0 TPU cores\n",
      "IPU available: False, using: 0 IPUs\n",
      "HPU available: False, using: 0 HPUs\n",
      "Restoring states from the checkpoint path at .\\logs\\results_Marco\\version_19\\checkpoints\\epoch=13-step=1820.ckpt\n",
      "c:\\Users\\Marco\\AppData\\Local\\Programs\\Python\\Python310\\lib\\site-packages\\pytorch_lightning\\callbacks\\model_checkpoint.py:337: UserWarning: The dirpath has changed from 'logs\\\\results_Marco\\\\version_19\\\\checkpoints' to 'logs\\\\results_Marco\\\\version_22\\\\checkpoints', therefore `best_model_score`, `kth_best_model_path`, `kth_value`, `last_model_path` and `best_k_models` won't be reloaded. Only `best_model_path` will be reloaded.\n",
      "  warnings.warn(\n",
      "LOCAL_RANK: 0 - CUDA_VISIBLE_DEVICES: [0]\n",
      "\n",
      "  | Name   | Type      | Params\n",
      "-------------------------------------\n",
      "0 | layer1 | Conv2d    | 544   \n",
      "1 | layer2 | Conv2d    | 32.8 K\n",
      "2 | layer3 | Conv2d    | 131 K \n",
      "3 | layer4 | Linear    | 31.0 M\n",
      "4 | layer5 | Linear    | 1.0 M \n",
      "5 | layer6 | Linear    | 100 K \n",
      "6 | pool   | MaxPool2d | 0     \n",
      "7 | relu   | ReLU      | 0     \n",
      "-------------------------------------\n",
      "32.2 M    Trainable params\n",
      "0         Non-trainable params\n",
      "32.2 M    Total params\n",
      "128.973   Total estimated model params size (MB)\n",
      "Restored all states from the checkpoint at .\\logs\\results_Marco\\version_19\\checkpoints\\epoch=13-step=1820.ckpt\n",
      "c:\\Users\\Marco\\AppData\\Local\\Programs\\Python\\Python310\\lib\\site-packages\\pytorch_lightning\\trainer\\connectors\\data_connector.py:432: PossibleUserWarning: The dataloader, train_dataloader, does not have many workers which may be a bottleneck. Consider increasing the value of the `num_workers` argument` (try 8 which is the number of cpus on this machine) in the `DataLoader` init to improve performance.\n",
      "  rank_zero_warn(\n"
     ]
    },
    {
     "name": "stdout",
     "output_type": "stream",
     "text": [
      "Epoch 14: 100%|██████████| 130/130 [00:20<00:00,  6.24it/s, v_num=22]"
     ]
    },
    {
     "name": "stderr",
     "output_type": "stream",
     "text": [
      "`Trainer.fit` stopped: `max_epochs=15` reached.\n"
     ]
    },
    {
     "name": "stdout",
     "output_type": "stream",
     "text": [
      "Epoch 14: 100%|██████████| 130/130 [00:39<00:00,  3.27it/s, v_num=22]\n"
     ]
    }
   ],
   "source": [
    "trainer = pl.Trainer(max_epochs=15, logger=tb_logger)  # Adjust parameters as needed\n",
    "\n",
    "# Train the model\n",
    "trainer.fit(lightning_model, dm, ckpt_path=rf\".\\logs\\results_{user}\\version_19\\checkpoints\\epoch=13-step=1820.ckpt\")"
   ]
  },
  {
   "cell_type": "markdown",
   "metadata": {},
   "source": [
    "## View predicted and true airfoil coordinates"
   ]
  },
  {
   "cell_type": "code",
   "execution_count": 44,
   "metadata": {},
   "outputs": [
    {
     "data": {
      "image/png": "[encoded data removed]",
      "text/plain": [
       "<Figure size 640x480 with 1 Axes>"
      ]
     },
     "metadata": {},
     "output_type": "display_data"
    }
   ],
   "source": [
    "output_files = [file for file in os.listdir(lightning_model.save_path) if file.endswith('.csv') and file.startswith('output')]\n",
    "# Loop through each CSV file\n",
    "for file in output_files:\n",
    "    # Extract the index from the file name\n",
    "    index = int(file.split('_')[1].split('.')[0])\n",
    "    \n",
    "    # Read the CSV file\n",
    "    df_output = pd.read_csv(os.path.join(lightning_model.save_path, file))\n",
    "    df_target = pd.read_csv(os.path.join(lightning_model.save_path, f\"target_{index}.csv\"))\n",
    "    #remove Unnamed column\n",
    "    df_output = df_output.iloc[:,1:]\n",
    "    df_target = df_target.iloc[:,1:]\n",
    "    \n",
    "    # Show the coordinates from output_i and target_i\n",
    "    plt.plot(df_output.iloc[0], df_output.iloc[1], label='Output')\n",
    "    plt.plot(df_target.iloc[0], df_target.iloc[1], label='Target')\n",
    "    #make x axes from 0 to 1 and y axes from -0.5 to 0.5\n",
    "    plt.gca().set_aspect('equal', adjustable='box')\n",
    "    plt.xlim(0,1)\n",
    "    plt.ylim(-0.3,0.3)\n",
    "    plt.legend()\n",
    "    plt.show()\n",
    "\n"
   ]
  },
  {
   "cell_type": "markdown",
   "metadata": {},
   "source": [
    "# Get results from testing:\n"
   ]
  },
  {
   "cell_type": "code",
   "execution_count": null,
   "metadata": {},
   "outputs": [],
   "source": [
    "trainer.test(lightning_model, dm)\n"
   ]
  }
 ],
 "metadata": {
  "kernelspec": {
   "display_name": "Python 3",
   "language": "python",
   "name": "python3"
  },
  "language_info": {
   "codemirror_mode": {
    "name": "ipython",
    "version": 3
   },
   "file_extension": ".py",
   "mimetype": "text/x-python",
   "name": "python",
   "nbconvert_exporter": "python",
   "pygments_lexer": "ipython3",
   "version": "3.10.7"
  }
 },
 "nbformat": 4,
 "nbformat_minor": 2
}
