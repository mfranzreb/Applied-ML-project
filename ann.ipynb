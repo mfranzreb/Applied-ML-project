{
 "cells": [
  {
   "cell_type": "code",
   "execution_count": null,
   "metadata": {},
   "outputs": [],
   "source": [
    "import torch\n",
    "from torch import nn\n",
    "from torch.utils.data import DataLoader, Dataset\n",
    "import pytorch_lightning as pl\n",
    "import matplotlib.pyplot as plt\n",
    "import numpy as np"
   ]
  },
  {
   "cell_type": "markdown",
   "metadata": {},
   "source": [
    "## Define parameters"
   ]
  },
  {
   "cell_type": "code",
   "execution_count": null,
   "metadata": {},
   "outputs": [],
   "source": [
    "learning_rate = 1e-3\n",
    "input_size = 146\n",
    "output_size = 10\n",
    "batch_size = 64\n",
    "num_epochs = 100\n",
    "num_workers = 8"
   ]
  },
  {
   "cell_type": "markdown",
   "metadata": {},
   "source": [
    "## Define the neural network architecture\n",
    "Layer options (More info at https://pytorch.org/docs/stable/nn.html):\n",
    "+ Linear: fully connected layer\n",
    "+ Conv1d/Conv2d: Convolutional layers\n",
    "+ BatchNorm2d/LayerNorm/InstanceNorm2d: Normalization layers\n",
    "+ Dropout: Dropout layer\n",
    "+ MaxPool2d/AvgPool2d: Pooling layers"
   ]
  },
  {
   "cell_type": "code",
   "execution_count": null,
   "metadata": {},
   "outputs": [],
   "source": [
    "class NN(pl.LightningModule):\n",
    "    def __init__(self, learning_rate, input_size, output_size):\n",
    "        super(NN, self).__init__()\n",
    "        self.layer1 = nn.Linear(input_size, 20)\n",
    "        self.layer2 = nn.Linear(20, output_size)\n",
    "        self.relu = nn.ReLU()\n",
    "        self.loss_fn = nn.MSELoss()\n",
    "    \n",
    "    def forward(self, x):\n",
    "        x = self.relu(self.layer1(x))\n",
    "        x = self.layer2(x)\n",
    "        return x\n",
    "\n",
    "    def configure_optimizers(self):\n",
    "        return torch.optim.Adam(self.parameters(), lr=self.learning_rate)\n",
    "    \n",
    "\n",
    "    def training_step(self, batch, batch_idx):\n",
    "        inputs, targets = batch\n",
    "        outputs = self.forward(inputs)\n",
    "        loss = self.loss_fn(outputs, targets)\n",
    "        return loss\n",
    "    \n",
    "    def test_step(self, batch, batch_idx):\n",
    "        inputs, targets = batch\n",
    "        outputs = self.forward(inputs)\n",
    "        loss = self.loss_fn(outputs, targets)\n",
    "        return loss\n",
    "\n"
   ]
  },
  {
   "cell_type": "markdown",
   "metadata": {},
   "source": [
    "## Custom dataset class (TODO)"
   ]
  },
  {
   "cell_type": "code",
   "execution_count": null,
   "metadata": {},
   "outputs": [],
   "source": [
    "# TODO\n",
    "class CustomDataModule(pl.LightningDataModule):\n",
    "    def __init__(self, data_dir, batch_size, num_workers):\n",
    "        super().__init__()\n",
    "        self.data_dir = data_dir\n",
    "        self.batch_size = batch_size\n",
    "        self.num_workers = num_workers\n",
    "\n",
    "    def prepare_data(self):\n",
    "        #TODO\n",
    "        pass\n",
    "\n",
    "    def setup(self, stage):\n",
    "        #todo\n",
    "        self.train_ds, self.val_ds = random_split(entire_dataset, [50000, 10000])\n",
    "        self.test_ds = datasets.MNIST(\n",
    "            root=self.data_dir,\n",
    "            train=False,\n",
    "            transform=transforms.ToTensor(),\n",
    "            download=False,\n",
    "        )\n",
    "\n",
    "    def train_dataloader(self):\n",
    "        return DataLoader(\n",
    "            self.train_ds,\n",
    "            batch_size=self.batch_size,\n",
    "            num_workers=self.num_workers,\n",
    "            shuffle=True,\n",
    "        )\n",
    "\n",
    "    def val_dataloader(self):\n",
    "        return DataLoader(\n",
    "            self.val_ds,\n",
    "            batch_size=self.batch_size,\n",
    "            num_workers=self.num_workers,\n",
    "            shuffle=False,\n",
    "        )\n",
    "\n",
    "    def test_dataloader(self):\n",
    "        return DataLoader(\n",
    "            self.test_ds,\n",
    "            batch_size=self.batch_size,\n",
    "            num_workers=self.num_workers,\n",
    "            shuffle=False,\n",
    "        )"
   ]
  },
  {
   "cell_type": "code",
   "execution_count": null,
   "metadata": {},
   "outputs": [],
   "source": [
    "class DistanceCallback(pl.Callback):\n",
    "    def __init__(self, dataset):\n",
    "        super().__init__()\n",
    "        self.dataset = dataset\n",
    "\n",
    "    def on_epoch_end(self, trainer, pl_module):\n",
    "        if trainer.current_epoch == trainer.max_epochs - 1:\n",
    "            # Calculate distances for the last epoch\n",
    "            distances = self.calculate_distances(pl_module, self.dataset)\n",
    "            \n",
    "            # Plot average and maximum distances\n",
    "            self.plot_distances(distances)\n",
    "\n",
    "    def calculate_distances(self, pl_module, dataset):\n",
    "        pl_module.eval()\n",
    "        distances = []\n",
    "\n",
    "        for data in DataLoader(dataset, batch_size=1):\n",
    "            inputs, targets = data\n",
    "            with torch.no_grad():\n",
    "                outputs = pl_module(inputs)\n",
    "            distances.append(self.calculate_distance(outputs, targets))\n",
    "\n",
    "        return distances\n",
    "\n",
    "    def calculate_distance(self, output, target):\n",
    "        # Replace this with your distance calculation method\n",
    "        # Here, I'm using L2 distance for illustration purposes\n",
    "        distance = torch.norm(output - target)\n",
    "        return distance.item()\n",
    "\n",
    "    def plot_distances(self, distances):\n",
    "        avg_distance = np.mean(distances)\n",
    "        max_distance = np.max(distances)\n",
    "\n",
    "        plt.figure(figsize=(8, 5))\n",
    "        plt.hist(distances, bins=50, color='skyblue', edgecolor='black')\n",
    "        plt.axvline(avg_distance, color='red', linestyle='dashed', linewidth=2, label=f'Average Distance: {avg_distance:.2f}')\n",
    "        plt.axvline(max_distance, color='green', linestyle='dashed', linewidth=2, label=f'Max Distance: {max_distance:.2f}')\n",
    "        plt.title('Distance Distribution')\n",
    "        plt.xlabel('Distance')\n",
    "        plt.ylabel('Frequency')\n",
    "        plt.legend()\n",
    "        plt.show()"
   ]
  },
  {
   "cell_type": "code",
   "execution_count": null,
   "metadata": {},
   "outputs": [],
   "source": [
    "# Set device cuda for GPU if it's available otherwise run on the CPU\n",
    "device = torch.device(\"cuda\" if torch.cuda.is_available() else \"cpu\")\n",
    "lightning_model = NN(learning_rate=learning_rate, input_size=input_size, output_size=output_size).to(device)\n",
    "\n",
    "\n",
    "# TODO\n",
    "data_dir = './data'\n",
    "dm = CustomDataModule(data_dir, batch_size, num_workers)"
   ]
  },
  {
   "cell_type": "markdown",
   "metadata": {},
   "source": [
    "# Train and plot loss over epochs, as well as average and maximum difference for every sample in the last epoch"
   ]
  },
  {
   "cell_type": "code",
   "execution_count": null,
   "metadata": {},
   "outputs": [],
   "source": [
    "callbacks = [pl.callbacks.LearningRateMonitor(logging_interval='epoch'),\n",
    "             pl.callbacks.ProgressBar(),\n",
    "             DistanceCallback(dataset=dm.)]\n",
    "trainer = pl.Trainer(max_epochs=num_epochs, gpus=1, callbacks=callbacks)  # Adjust parameters as needed\n",
    "\n",
    "# Train the model\n",
    "trainer.fit(lightning_model, dm)"
   ]
  },
  {
   "cell_type": "markdown",
   "metadata": {},
   "source": [
    "# Get results from testing: loss, accuracy, recall, F1 score..."
   ]
  },
  {
   "cell_type": "code",
   "execution_count": null,
   "metadata": {},
   "outputs": [],
   "source": [
    "test_loader = DataLoader(test_data, batch_size=batch_size, shuffle=True)\n",
    "trainer.test(lightning_model, dm)\n"
   ]
  }
 ],
 "metadata": {
  "language_info": {
   "name": "python"
  }
 },
 "nbformat": 4,
 "nbformat_minor": 2
}
