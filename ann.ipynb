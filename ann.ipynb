{
 "cells": [
  {
   "cell_type": "code",
   "execution_count": 142,
   "metadata": {},
   "outputs": [],
   "source": [
    "import torch\n",
    "from torch import nn\n",
    "from torch.utils.data import DataLoader, Dataset\n",
    "import pytorch_lightning as pl\n",
    "from pytorch_lightning.loggers import TensorBoardLogger\n",
    "import pandas as pd\n",
    "import os"
   ]
  },
  {
   "cell_type": "markdown",
   "metadata": {},
   "source": [
    "## Define parameters"
   ]
  },
  {
   "cell_type": "code",
   "execution_count": 143,
   "metadata": {},
   "outputs": [],
   "source": [
    "learning_rate = 1e-3\n",
    "input_size = 100\n",
    "output_size = 100\n",
    "batch_size = 100\n",
    "num_epochs = 2000\n",
    "num_workers = 0\n",
    "train_dir = os.path.join(os.getcwd(), 'data', 'train')\n",
    "test_dir = os.path.join(os.getcwd(), 'data', 'test')\n",
    "dtype_to_use = torch.float32"
   ]
  },
  {
   "cell_type": "markdown",
   "metadata": {},
   "source": [
    "## Define the neural network architecture\n",
    "Layer options (More info at https://pytorch.org/docs/stable/nn.html):\n",
    "+ Linear: fully connected layer\n",
    "+ Conv1d/Conv2d: Convolutional layers\n",
    "+ BatchNorm2d/LayerNorm/InstanceNorm2d: Normalization layers\n",
    "+ Dropout: Dropout layer\n",
    "+ MaxPool2d/AvgPool2d: Pooling layers"
   ]
  },
  {
   "cell_type": "code",
   "execution_count": 144,
   "metadata": {},
   "outputs": [],
   "source": [
    "class NN(pl.LightningModule):\n",
    "    def __init__(self, learning_rate, input_size, output_size):\n",
    "        super(NN, self).__init__()\n",
    "        self.learning_rate = learning_rate\n",
    "        self.layer1 = nn.Conv2d(1, 10, 2, padding=\"same\", dtype=dtype_to_use)\n",
    "        self.layer2 = nn.Conv2d(10, 10, (2, 10), padding=\"same\", dtype=dtype_to_use)\n",
    "        self.layer3 = nn.MaxPool3d((10, 1, 2))\n",
    "        self.layer5 = nn.Linear(50, 60, dtype=dtype_to_use)\n",
    "        self.layer6 = nn.Linear(60, 80, dtype=dtype_to_use)\n",
    "        self.layer7 = nn.Linear(80, 100, dtype=dtype_to_use)\n",
    "        self.layer8 = nn.Linear(100, output_size, dtype=dtype_to_use)\n",
    "\n",
    "        self.relu = nn.ReLU()\n",
    "        self.loss_fn = nn.MSELoss()\n",
    "\n",
    "        self.training_step_outputs = []\n",
    "        self.testing_step_outputs = []\n",
    "    \n",
    "    def forward(self, x):\n",
    "        #resize x to be (batch_size, 1, 2, 100)\n",
    "        x = x.view(-1, 1, 2, 100)\n",
    "        x = self.relu(self.layer1(x))\n",
    "        x = self.relu(self.layer2(x))\n",
    "        x = self.relu(self.layer3(x))\n",
    "        x = self.relu(self.layer5(x))\n",
    "        x = self.relu(self.layer6(x))\n",
    "        x = self.relu(self.layer7(x))\n",
    "        x = self.layer8(x)\n",
    "        x = x.view(-1, 2, 100)\n",
    "        return x\n",
    "\n",
    "    def configure_optimizers(self):\n",
    "        return torch.optim.Adam(self.parameters(), lr=self.learning_rate)\n",
    "    \n",
    "    def on_train_epoch_end(self):\n",
    "        if self.current_epoch == self.trainer.max_epochs - 1:\n",
    "            # Calculate distances for the last epoch\n",
    "            avg_distances, max_distances = self.calculate_distances(self.training_step_outputs)\n",
    "            for i, avg_distance in enumerate(avg_distances):\n",
    "                self.logger.experiment.add_scalar(\"train/avg_distance\", avg_distance, i)\n",
    "                self.logger.experiment.add_scalar(\"train/max_distance\", max_distances[i], i)\t\n",
    "\n",
    "    def on_test_end(self):\n",
    "        if self.current_epoch >= self.trainer.max_epochs - 1:\n",
    "            # Calculate distances for the last epoch\n",
    "            avg_distances, max_distances = self.calculate_distances(self.testing_step_outputs)\n",
    "            for i, avg_distance in enumerate(avg_distances):\n",
    "                self.logger.experiment.add_scalar(\"test/avg_distance\", avg_distance, i)\n",
    "                self.logger.experiment.add_scalar(\"test/max_distance\", max_distances[i], i)\n",
    "\n",
    "            \n",
    "\n",
    "    def calculate_distances(self, output_target_pairs):\n",
    "        avg_distances, max_distances = [], []\n",
    "        for output, target in output_target_pairs:\n",
    "            avg_distance, max_distance = self.calculate_distance(output, target)\n",
    "            avg_distances.append(avg_distance)\n",
    "            max_distances.append(max_distance)\n",
    "\n",
    "        return avg_distances, max_distances\n",
    "\n",
    "    def calculate_distance(self, output, target):\n",
    "        abs_diff = torch.abs(output - target)\n",
    "        avg_distance = torch.mean(abs_diff)\n",
    "        max_distance = torch.max(abs_diff)\n",
    "        return (avg_distance.item(), max_distance.item())\n",
    "    \n",
    "\n",
    "    def training_step(self, batch, batch_idx):\n",
    "        inputs, targets = batch\n",
    "        outputs = self.forward(inputs)\n",
    "        loss = self.loss_fn(outputs, targets)\n",
    "        if torch.isnan(loss):\n",
    "            self.trainer.should_stop = True\n",
    "        self.log(\"train_loss\", loss)\n",
    "        if self.current_epoch == self.trainer.max_epochs - 1:\n",
    "            for output, target in zip(outputs, targets):\n",
    "                self.training_step_outputs.append((output, target))\n",
    "        else:\n",
    "            self.training_step_outputs = []\n",
    "        return loss\n",
    "    \n",
    "    def test_step(self, batch, batch_idx):\n",
    "        inputs, targets = batch\n",
    "        outputs = self.forward(inputs)\n",
    "        loss = self.loss_fn(outputs, targets)\n",
    "        self.log(\"test_loss\", loss)\n",
    "        if self.current_epoch >= self.trainer.max_epochs - 1:\n",
    "            for output, target in zip(outputs, targets):\n",
    "                self.testing_step_outputs.append((output, target))\n",
    "        else:\n",
    "            self.testing_step_outputs = []\n",
    "        return loss\n"
   ]
  },
  {
   "cell_type": "markdown",
   "metadata": {},
   "source": [
    "## Custom dataset class"
   ]
  },
  {
   "cell_type": "code",
   "execution_count": 145,
   "metadata": {},
   "outputs": [],
   "source": [
    "class CustomDataset(Dataset):\n",
    "    def __init__(self, data, device):\n",
    "        self.data = data\n",
    "        self.device = device\n",
    "\n",
    "    def __len__(self):\n",
    "        return len(self.data)\n",
    "\n",
    "    def __getitem__(self, index):\n",
    "        # Assuming each item in the dataset is a tuple of (input, output)\n",
    "        sample = self.data[index]\n",
    "        input_array, output_array = sample[0], sample[1]\n",
    "\n",
    "        # Convert to PyTorch tensors\n",
    "        input_tensor = torch.tensor(input_array, dtype=dtype_to_use, device=self.device)\n",
    "        output_tensor = torch.tensor(output_array, dtype=dtype_to_use, device=self.device)\n",
    "\n",
    "        return input_tensor, output_tensor\n",
    "    \n",
    "class CustomDataModule(pl.LightningDataModule):\n",
    "    def __init__(self, batch_size, num_workers, device):\n",
    "        super().__init__()\n",
    "        self.batch_size = batch_size\n",
    "        self.num_workers = num_workers\n",
    "        self.device = device\n",
    "        self.train_ds = None\n",
    "        self.test_ds = None\n",
    "\n",
    "    def prepare_data(self):\n",
    "        pass\n",
    "\n",
    "    #Arrays are transposed to make input size 100 instead of 2\n",
    "    def setup(self, stage):\n",
    "        train_data = []\n",
    "        test_data = []\n",
    "        for subdir in os.listdir(train_dir):\n",
    "            input_output = (pd.read_csv(os.path.join(train_dir, subdir, 'polar.csv')).values.transpose(), pd.read_csv(os.path.join(train_dir, subdir, 'coords.csv')).values.transpose())\n",
    "            train_data.append(input_output)\n",
    "        for subdir in os.listdir(test_dir):\n",
    "            input_output = (pd.read_csv(os.path.join(test_dir, subdir, 'polar.csv')).values.transpose(), pd.read_csv(os.path.join(test_dir, subdir, 'coords.csv')).values.transpose())\n",
    "            test_data.append(input_output)\n",
    "\n",
    "        self.train_ds = CustomDataset(train_data, self.device)\n",
    "        self.test_ds = CustomDataset(test_data, self.device)\n",
    "\n",
    "    def train_dataloader(self):\n",
    "        return DataLoader(\n",
    "            self.train_ds,\n",
    "            batch_size=self.batch_size,\n",
    "            num_workers=self.num_workers,\n",
    "        )\n",
    "\n",
    "    def test_dataloader(self):\n",
    "        return DataLoader(\n",
    "            self.test_ds,\n",
    "            batch_size=self.batch_size,\n",
    "            num_workers=self.num_workers,\n",
    "        )"
   ]
  },
  {
   "cell_type": "code",
   "execution_count": 146,
   "metadata": {},
   "outputs": [
    {
     "name": "stdout",
     "output_type": "stream",
     "text": [
      "Using: Quadro P600\n"
     ]
    }
   ],
   "source": [
    "# Set device cuda for GPU if it's available otherwise run on the CPU\n",
    "os.environ[\"CUDA_VISIBLE_DEVICES\"] = \"0\"\n",
    "device = torch.device(\"cuda\" if torch.cuda.is_available() else \"cpu\")\n",
    "#device = torch.device(\"cpu\")\n",
    "if device == torch.device(\"cuda\"):\n",
    "    print(f\"Using: {torch.cuda.get_device_name(device)}\")\n",
    "else:\n",
    "    print(\"Using: CPU\")\n",
    "    os.environ[\"CUDA_VISIBLE_DEVICES\"] = \"\"\n",
    "lightning_model = NN(learning_rate=learning_rate, input_size=input_size, output_size=output_size).to(device)\n",
    "\n",
    "\n",
    "dm = CustomDataModule(batch_size, num_workers, device)"
   ]
  },
  {
   "cell_type": "markdown",
   "metadata": {},
   "source": [
    "# Train and plot loss over epochs, as well as average and maximum difference for every sample in the last epoch"
   ]
  },
  {
   "cell_type": "code",
   "execution_count": 147,
   "metadata": {},
   "outputs": [
    {
     "name": "stderr",
     "output_type": "stream",
     "text": [
      "GPU available: True (cuda), used: True\n",
      "TPU available: False, using: 0 TPU cores\n",
      "IPU available: False, using: 0 IPUs\n",
      "HPU available: False, using: 0 HPUs\n"
     ]
    },
    {
     "name": "stderr",
     "output_type": "stream",
     "text": [
      "LOCAL_RANK: 0 - CUDA_VISIBLE_DEVICES: [0]\n",
      "\n",
      "  | Name    | Type      | Params\n",
      "--------------------------------------\n",
      "0 | layer1  | Conv2d    | 50    \n",
      "1 | layer2  | Conv2d    | 2.0 K \n",
      "2 | layer3  | MaxPool3d | 0     \n",
      "3 | layer5  | Linear    | 3.1 K \n",
      "4 | layer6  | Linear    | 4.9 K \n",
      "5 | layer7  | Linear    | 8.1 K \n",
      "6 | layer8  | Linear    | 10.1 K\n",
      "7 | relu    | ReLU      | 0     \n",
      "8 | loss_fn | MSELoss   | 0     \n",
      "--------------------------------------\n",
      "28.2 K    Trainable params\n",
      "0         Non-trainable params\n",
      "28.2 K    Total params\n",
      "0.113     Total estimated model params size (MB)\n",
      "c:\\Users\\Marco\\AppData\\Local\\Programs\\Python\\Python310\\lib\\site-packages\\pytorch_lightning\\trainer\\connectors\\data_connector.py:432: PossibleUserWarning: The dataloader, train_dataloader, does not have many workers which may be a bottleneck. Consider increasing the value of the `num_workers` argument` (try 8 which is the number of cpus on this machine) in the `DataLoader` init to improve performance.\n",
      "  rank_zero_warn(\n",
      "c:\\Users\\Marco\\AppData\\Local\\Programs\\Python\\Python310\\lib\\site-packages\\pytorch_lightning\\loops\\fit_loop.py:280: PossibleUserWarning: The number of training batches (13) is smaller than the logging interval Trainer(log_every_n_steps=50). Set a lower value for log_every_n_steps if you want to see logs for the training epoch.\n",
      "  rank_zero_warn(\n"
     ]
    },
    {
     "name": "stdout",
     "output_type": "stream",
     "text": [
      "Epoch 99: 100%|██████████| 13/13 [00:00<00:00, 35.89it/s, v_num=4]"
     ]
    },
    {
     "name": "stderr",
     "output_type": "stream",
     "text": [
      "`Trainer.fit` stopped: `max_epochs=100` reached.\n"
     ]
    },
    {
     "name": "stdout",
     "output_type": "stream",
     "text": [
      "Epoch 99: 100%|██████████| 13/13 [00:02<00:00,  5.17it/s, v_num=4]\n"
     ]
    },
    {
     "name": "stderr",
     "output_type": "stream",
     "text": [
      "UsageError: Line magic function `%tensorboard` not found.\n"
     ]
    }
   ],
   "source": [
    "#! Change this to your name so that each one has their results in a separate folder\n",
    "tb_logger = TensorBoardLogger(\"logs\", name=\"results_Marco\")\n",
    "trainer = pl.Trainer(max_epochs=num_epochs, logger=tb_logger)  # Adjust parameters as needed\n",
    "\n",
    "# Train the model\n",
    "trainer.fit(lightning_model, dm)\n",
    "%tensorboard --logdir logs/results_Marco"
   ]
  },
  {
   "cell_type": "code",
   "execution_count": 148,
   "metadata": {},
   "outputs": [],
   "source": [
    "#trainer = pl.Trainer(max_epochs=2000, logger=tb_logger)  # Adjust parameters as needed\n",
    "\n",
    "# Train the model\n",
    "#trainer.fit(lightning_model, dm, ckpt_path=r\".\\logs\\results_Marco\\version_0\\checkpoints\\epoch=499-step=6500.ckpt\")"
   ]
  },
  {
   "cell_type": "markdown",
   "metadata": {},
   "source": [
    "# Get results from testing:\n"
   ]
  },
  {
   "cell_type": "code",
   "execution_count": 149,
   "metadata": {},
   "outputs": [
    {
     "name": "stderr",
     "output_type": "stream",
     "text": [
      "LOCAL_RANK: 0 - CUDA_VISIBLE_DEVICES: [0]\n",
      "c:\\Users\\Marco\\AppData\\Local\\Programs\\Python\\Python310\\lib\\site-packages\\pytorch_lightning\\trainer\\connectors\\data_connector.py:432: PossibleUserWarning: The dataloader, test_dataloader, does not have many workers which may be a bottleneck. Consider increasing the value of the `num_workers` argument` (try 8 which is the number of cpus on this machine) in the `DataLoader` init to improve performance.\n",
      "  rank_zero_warn(\n"
     ]
    },
    {
     "name": "stdout",
     "output_type": "stream",
     "text": [
      "Testing DataLoader 0: 100%|██████████| 4/4 [00:00<00:00, 39.67it/s] \n"
     ]
    },
    {
     "data": {
      "text/html": [
       "<pre style=\"white-space:pre;overflow-x:auto;line-height:normal;font-family:Menlo,'DejaVu Sans Mono',consolas,'Courier New',monospace\">┏━━━━━━━━━━━━━━━━━━━━━━━━━━━┳━━━━━━━━━━━━━━━━━━━━━━━━━━━┓\n",
       "┃<span style=\"font-weight: bold\">        Test metric        </span>┃<span style=\"font-weight: bold\">       DataLoader 0        </span>┃\n",
       "┡━━━━━━━━━━━━━━━━━━━━━━━━━━━╇━━━━━━━━━━━━━━━━━━━━━━━━━━━┩\n",
       "│<span style=\"color: #008080; text-decoration-color: #008080\">         test_loss         </span>│<span style=\"color: #800080; text-decoration-color: #800080\">   0.0001890257408376783   </span>│\n",
       "└───────────────────────────┴───────────────────────────┘\n",
       "</pre>\n"
      ],
      "text/plain": [
       "┏━━━━━━━━━━━━━━━━━━━━━━━━━━━┳━━━━━━━━━━━━━━━━━━━━━━━━━━━┓\n",
       "┃\u001b[1m \u001b[0m\u001b[1m       Test metric       \u001b[0m\u001b[1m \u001b[0m┃\u001b[1m \u001b[0m\u001b[1m      DataLoader 0       \u001b[0m\u001b[1m \u001b[0m┃\n",
       "┡━━━━━━━━━━━━━━━━━━━━━━━━━━━╇━━━━━━━━━━━━━━━━━━━━━━━━━━━┩\n",
       "│\u001b[36m \u001b[0m\u001b[36m        test_loss        \u001b[0m\u001b[36m \u001b[0m│\u001b[35m \u001b[0m\u001b[35m  0.0001890257408376783  \u001b[0m\u001b[35m \u001b[0m│\n",
       "└───────────────────────────┴───────────────────────────┘\n"
      ]
     },
     "metadata": {},
     "output_type": "display_data"
    },
    {
     "data": {
      "text/plain": [
       "[{'test_loss': 0.0001890257408376783}]"
      ]
     },
     "execution_count": 149,
     "metadata": {},
     "output_type": "execute_result"
    }
   ],
   "source": [
    "trainer.test(lightning_model, dm)\n"
   ]
  }
 ],
 "metadata": {
  "kernelspec": {
   "display_name": "Python 3",
   "language": "python",
   "name": "python3"
  },
  "language_info": {
   "codemirror_mode": {
    "name": "ipython",
    "version": 3
   },
   "file_extension": ".py",
   "mimetype": "text/x-python",
   "name": "python",
   "nbconvert_exporter": "python",
   "pygments_lexer": "ipython3",
   "version": "3.10.7"
  }
 },
 "nbformat": 4,
 "nbformat_minor": 2
}
